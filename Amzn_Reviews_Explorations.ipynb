{
 "cells": [
  {
   "cell_type": "markdown",
   "metadata": {},
   "source": [
    "# Questions to Explore: "
   ]
  },
  {
   "cell_type": "markdown",
   "metadata": {},
   "source": [
    "\n",
    "Are popular products better than less popular ones (based on customer reviews)?<br><br>\n",
    "What are the salient words and phrases used in the reviews of popular products?<br><br>\n",
    "Do customer opinions change from early to late reviews?<br><br>\n",
    "After the product is launched, what is the trend of positive and negative reviews over time? <br><br>"
   ]
  },
  {
   "cell_type": "code",
   "execution_count": null,
   "metadata": {},
   "outputs": [],
   "source": [
    "# I didn't put any google trends data here since we are only exploring amazon reviews in this notebook.\n",
    "\n",
    "import numpy as np\n",
    "import pandas as pd\n",
    "import seaborn as sns\n",
    "import matplotlib.pyplot as plt\n",
    "from scipy import stats\n",
    "\n",
    "%matplotlib inline\n",
    "\n",
    "\n",
    "def GetMergedAmazonDataFrames():\n",
    "    files_to_use = [r'data\\AirPods Pro.csv', r'data\\Elite 75t.csv',r'data\\Free.csv',\n",
    "                   r'data\\Galaxy Buds Plus.csv',r'data\\M-200.csv',r'data\\NC700.csv',\n",
    "                   r'data\\Soundcore Liberty 2 Pro.csv',r'data\\Soundcore Liberty Air 2.csv',r'data\\Soundcore Life Q20.csv',\n",
    "                   r'data\\WF-1000XM3.csv']\n",
    "    amzn_df = pd.read_csv(files_to_use[0],  parse_dates=False)\n",
    "    for file in files_to_use[1:]:\n",
    "        df = pd.read_csv(file,  parse_dates=False)\n",
    "#         amzn_df = pd.merge(amzn_df, df, how='outer',on='review_date')\n",
    "        amzn_df = pd.concat([amzn_df,df],sort=False)\n",
    "        \n",
    "    amzn_df['review_date'] = pd.to_datetime(amzn_df['review_date'], format='%Y-%m-%d')\n",
    "    amzn_df = amzn_df[['Manufacturer', 'ProductName', 'review_rating', 'verified_purchase',\n",
    "       'review_date', 'review_title', 'review_text']]\n",
    "    return amzn_df\n",
    "    \n",
    "\n",
    "# weather_df['review_date'] = pd.to_datetime(weather_df['review_date'], format='%Y-%m-%d')\n",
    "# googleTrends_df\n",
    "airpods_amzn_df = GetMergedAmazonDataFrames()\n",
    "print(airpods_amzn_df.columns)\n",
    "airpods_amzn_df.head()"
   ]
  }
 ],
 "metadata": {
  "kernelspec": {
   "display_name": "Python 3",
   "language": "python",
   "name": "python3"
  },
  "language_info": {
   "codemirror_mode": {
    "name": "ipython",
    "version": 3
   },
   "file_extension": ".py",
   "mimetype": "text/x-python",
   "name": "python",
   "nbconvert_exporter": "python",
   "pygments_lexer": "ipython3",
   "version": "3.7.3"
  }
 },
 "nbformat": 4,
 "nbformat_minor": 2
}
