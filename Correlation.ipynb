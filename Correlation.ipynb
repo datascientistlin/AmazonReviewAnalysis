{
 "cells": [
  {
   "cell_type": "code",
   "execution_count": 1,
   "metadata": {},
   "outputs": [],
   "source": [
    "import pandas as pd\n",
    "\n",
    "from matplotlib import pyplot as plt\n",
    "import matplotlib.dates as mdates\n",
    "\n",
    "import altair as alt\n",
    "from altair import datum"
   ]
  },
  {
   "cell_type": "code",
   "execution_count": 2,
   "metadata": {},
   "outputs": [],
   "source": [
    "def review_date_import_clean(product_name):\n",
    "    df_review = pd.read_csv('data/{}.csv'.format(product_name))\n",
    "    df_review = df_review[df_review['verified_purchase'] == 1]\n",
    "    df_review['review_date_key'] = pd.to_datetime(df_review['review_date'])\n",
    "    df_review_weekly = df_review.groupby(pd.Grouper(key='review_date_key', freq='W-SUN', label='left', closed='left'))['review_rating']\\\n",
    "                        .agg(['mean', 'count'])\\\n",
    "                        .reset_index()\n",
    "    #df_review_weekly['review_date_key'] = df_review_weekly['review_date_key'] + pd.to_timedelta(1, unit='d')\n",
    "    df_review_weekly.rename(columns={'mean':'average_rating', 'count':'review_count'}, inplace=True)\n",
    "    \n",
    "    return df_review_weekly"
   ]
  },
  {
   "cell_type": "code",
   "execution_count": 3,
   "metadata": {},
   "outputs": [],
   "source": [
    "def google_data_import_clean(product_name):\n",
    "    df_gg = pd.read_excel('data/Google Trend.xlsx', sheet_name = product_name)\n",
    "    df_gg['week_key'] = pd.to_datetime(df_gg['Week'])\n",
    "    \n",
    "    df_gg.rename(columns = {df_gg.columns[1]:'trend_index'}, inplace = True)\n",
    "    df_gg_filter = df_gg[df_gg['trend_index'].cumsum() > 0]\n",
    "    \n",
    "    return df_gg_filter"
   ]
  },
  {
   "cell_type": "code",
   "execution_count": 4,
   "metadata": {},
   "outputs": [],
   "source": [
    "def data_import_clean(product_name):\n",
    "    \n",
    "    df_review_clean = review_date_import_clean(product_name)\n",
    "    df_gg_clean = google_data_import_clean(product_name)\n",
    "    \n",
    "    df = df_review_clean.merge(df_gg_clean, left_on = 'review_date_key', right_on='week_key', how='right')\n",
    "    df['product_name'] = product_name\n",
    "    df = df.sort_values('week_key').reset_index().drop('index', axis=1)\n",
    "    \n",
    "    return df"
   ]
  },
  {
   "cell_type": "code",
   "execution_count": 5,
   "metadata": {},
   "outputs": [],
   "source": [
    "def visualize_review_google_trend(df):\n",
    "    \n",
    "    fig = plt.figure(figsize=(20,10))\n",
    "    ax = fig.add_subplot(111)\n",
    "\n",
    "    lns1 = ax.plot(df['week_key'], df['review_count'], '-b', label = 'Amazon Review Count')\n",
    "    ax2 = ax.twinx()\n",
    "    lns2 = ax2.plot(df['week_key'], df['trend_index'],'-r', label = 'Google Trend Index')\n",
    "\n",
    "    lns = lns1+lns2\n",
    "    labs = [l.get_label() for l in lns]\n",
    "    ax.legend(lns, labs, loc=0, fontsize=16)\n",
    "\n",
    "    ax.set_xlabel(\"Week\")\n",
    "    ax.set_ylabel(\"Review Count\")\n",
    "    ax2.set_ylabel(\"Trend Index\")\n",
    "\n",
    "    fig.tight_layout()\n",
    "    plt.show()"
   ]
  },
  {
   "cell_type": "code",
   "execution_count": 6,
   "metadata": {},
   "outputs": [],
   "source": [
    "def visualize_correlation(df):\n",
    "    corr_lst = [(i, df['review_count'].corr(df['trend_index'].shift(i))) for i in range(len(df)//2)]\n",
    "    plt.bar([i[0] for i in corr_lst], [i[1] for i in corr_lst])\n",
    "    print(max(corr_lst,key=lambda item:item[1]))"
   ]
  },
  {
   "cell_type": "code",
   "execution_count": 7,
   "metadata": {},
   "outputs": [],
   "source": [
    "def calculate_correlation(df):\n",
    "    corr_lst = [(i, df['review_count'].corr(df['trend_index'].shift(i))) for i in range(len(df)//2)]\n",
    "    df_corr = pd.DataFrame(corr_lst, columns=['lag', 'corr'])\n",
    "    df_corr['product_name'] = df['product_name'][0]\n",
    "    df_corr['total_reviews'] = df['review_count'].sum()\n",
    "    return df_corr"
   ]
  },
  {
   "cell_type": "code",
   "execution_count": 8,
   "metadata": {},
   "outputs": [],
   "source": [
    "product_list = ['AirPods Pro', 'Elite 75t', 'Free', 'Galaxy Buds Plus', 'NC700', 'Soundcore Liberty 2 Pro', 'Soundcore Liberty Air 2', 'Soundcore Life Q20', 'WF-1000XM3']\n",
    "df_corr = pd.DataFrame(columns=['lag', 'corr', 'product_name', 'total_reviews'])\n",
    "\n",
    "for product in product_list:\n",
    "    df = data_import_clean(product)\n",
    "    df_corr = pd.concat([df_corr, calculate_correlation(df)])"
   ]
  },
  {
   "cell_type": "code",
   "execution_count": 9,
   "metadata": {},
   "outputs": [
    {
     "data": {
      "text/html": [
       "\n",
       "<div id=\"altair-viz-dcf872abea404b859bb7ad0c768809bb\"></div>\n",
       "<script type=\"text/javascript\">\n",
       "  (function(spec, embedOpt){\n",
       "    let outputDiv = document.currentScript.previousElementSibling;\n",
       "    if (outputDiv.id !== \"altair-viz-dcf872abea404b859bb7ad0c768809bb\") {\n",
       "      outputDiv = document.getElementById(\"altair-viz-dcf872abea404b859bb7ad0c768809bb\");\n",
       "    }\n",
       "    const paths = {\n",
       "      \"vega\": \"https://cdn.jsdelivr.net/npm//vega@5?noext\",\n",
       "      \"vega-lib\": \"https://cdn.jsdelivr.net/npm//vega-lib?noext\",\n",
       "      \"vega-lite\": \"https://cdn.jsdelivr.net/npm//vega-lite@4.8.1?noext\",\n",
       "      \"vega-embed\": \"https://cdn.jsdelivr.net/npm//vega-embed@6?noext\",\n",
       "    };\n",
       "\n",
       "    function loadScript(lib) {\n",
       "      return new Promise(function(resolve, reject) {\n",
       "        var s = document.createElement('script');\n",
       "        s.src = paths[lib];\n",
       "        s.async = true;\n",
       "        s.onload = () => resolve(paths[lib]);\n",
       "        s.onerror = () => reject(`Error loading script: ${paths[lib]}`);\n",
       "        document.getElementsByTagName(\"head\")[0].appendChild(s);\n",
       "      });\n",
       "    }\n",
       "\n",
       "    function showError(err) {\n",
       "      outputDiv.innerHTML = `<div class=\"error\" style=\"color:red;\">${err}</div>`;\n",
       "      throw err;\n",
       "    }\n",
       "\n",
       "    function displayChart(vegaEmbed) {\n",
       "      vegaEmbed(outputDiv, spec, embedOpt)\n",
       "        .catch(err => showError(`Javascript Error: ${err.message}<br>This usually means there's a typo in your chart specification. See the javascript console for the full traceback.`));\n",
       "    }\n",
       "\n",
       "    if(typeof define === \"function\" && define.amd) {\n",
       "      requirejs.config({paths});\n",
       "      require([\"vega-embed\"], displayChart, err => showError(`Error loading script: ${err.message}`));\n",
       "    } else if (typeof vegaEmbed === \"function\") {\n",
       "      displayChart(vegaEmbed);\n",
       "    } else {\n",
       "      loadScript(\"vega\")\n",
       "        .then(() => loadScript(\"vega-lite\"))\n",
       "        .then(() => loadScript(\"vega-embed\"))\n",
       "        .catch(showError)\n",
       "        .then(() => displayChart(vegaEmbed));\n",
       "    }\n",
       "  })({\"config\": {\"view\": {\"continuousWidth\": 400, \"continuousHeight\": 300}}, \"data\": {\"name\": \"data-2580bbccf4600eba7c638c2ffb7f0445\"}, \"mark\": {\"type\": \"bar\", \"size\": 10}, \"encoding\": {\"facet\": {\"type\": \"nominal\", \"columns\": 1, \"field\": \"product_name\", \"sort\": [\"NC700\", \"AirPods Pro\", \"WF-1000XM3\", \"Elite 75t\", \"Soundcore Liberty 2 Pro\", \"Galaxy Buds Plus\", \"Soundcore Liberty Air 2\", \"Soundcore Life Q20\", \"Free\"]}, \"x\": {\"type\": \"quantitative\", \"field\": \"lag\"}, \"y\": {\"type\": \"quantitative\", \"field\": \"corr\"}}, \"resolve\": {\"scale\": {\"x\": \"independent\"}}, \"transform\": [{\"filter\": \"(datum.corr > 0)\"}], \"$schema\": \"https://vega.github.io/schema/vega-lite/v4.8.1.json\", \"datasets\": {\"data-2580bbccf4600eba7c638c2ffb7f0445\": [{\"lag\": 0, \"corr\": -0.3160132020458464, \"product_name\": \"AirPods Pro\", \"total_reviews\": 3940.0}, {\"lag\": 1, \"corr\": 0.07420299700845506, \"product_name\": \"AirPods Pro\", \"total_reviews\": 3940.0}, {\"lag\": 2, \"corr\": 0.37618952753241697, \"product_name\": \"AirPods Pro\", \"total_reviews\": 3940.0}, {\"lag\": 3, \"corr\": 0.4124188215095457, \"product_name\": \"AirPods Pro\", \"total_reviews\": 3940.0}, {\"lag\": 4, \"corr\": 0.4277608551701801, \"product_name\": \"AirPods Pro\", \"total_reviews\": 3940.0}, {\"lag\": 5, \"corr\": 0.4506785089441423, \"product_name\": \"AirPods Pro\", \"total_reviews\": 3940.0}, {\"lag\": 6, \"corr\": 0.45671222278954604, \"product_name\": \"AirPods Pro\", \"total_reviews\": 3940.0}, {\"lag\": 7, \"corr\": 0.3606195222876077, \"product_name\": \"AirPods Pro\", \"total_reviews\": 3940.0}, {\"lag\": 8, \"corr\": 0.42372974351194725, \"product_name\": \"AirPods Pro\", \"total_reviews\": 3940.0}, {\"lag\": 9, \"corr\": 0.5672660450773565, \"product_name\": \"AirPods Pro\", \"total_reviews\": 3940.0}, {\"lag\": 10, \"corr\": 0.18513404903032857, \"product_name\": \"AirPods Pro\", \"total_reviews\": 3940.0}, {\"lag\": 11, \"corr\": 0.051429668065262855, \"product_name\": \"AirPods Pro\", \"total_reviews\": 3940.0}, {\"lag\": 12, \"corr\": -0.2098075000986056, \"product_name\": \"AirPods Pro\", \"total_reviews\": 3940.0}, {\"lag\": 13, \"corr\": 0.03167311119014617, \"product_name\": \"AirPods Pro\", \"total_reviews\": 3940.0}, {\"lag\": 0, \"corr\": -0.18505541494780325, \"product_name\": \"Elite 75t\", \"total_reviews\": 445.0}, {\"lag\": 1, \"corr\": 0.01402550415214063, \"product_name\": \"Elite 75t\", \"total_reviews\": 445.0}, {\"lag\": 2, \"corr\": 0.1700459791558085, \"product_name\": \"Elite 75t\", \"total_reviews\": 445.0}, {\"lag\": 3, \"corr\": 0.32754257027731126, \"product_name\": \"Elite 75t\", \"total_reviews\": 445.0}, {\"lag\": 4, \"corr\": 0.3943657720295641, \"product_name\": \"Elite 75t\", \"total_reviews\": 445.0}, {\"lag\": 5, \"corr\": 0.3604902128218511, \"product_name\": \"Elite 75t\", \"total_reviews\": 445.0}, {\"lag\": 6, \"corr\": 0.48065383174433546, \"product_name\": \"Elite 75t\", \"total_reviews\": 445.0}, {\"lag\": 7, \"corr\": 0.5720170289364405, \"product_name\": \"Elite 75t\", \"total_reviews\": 445.0}, {\"lag\": 8, \"corr\": 0.4576831855317749, \"product_name\": \"Elite 75t\", \"total_reviews\": 445.0}, {\"lag\": 9, \"corr\": 0.629518824899061, \"product_name\": \"Elite 75t\", \"total_reviews\": 445.0}, {\"lag\": 10, \"corr\": 0.5403746437443708, \"product_name\": \"Elite 75t\", \"total_reviews\": 445.0}, {\"lag\": 11, \"corr\": 0.508821219659622, \"product_name\": \"Elite 75t\", \"total_reviews\": 445.0}, {\"lag\": 12, \"corr\": 0.395435140967681, \"product_name\": \"Elite 75t\", \"total_reviews\": 445.0}, {\"lag\": 13, \"corr\": 0.40470300129377373, \"product_name\": \"Elite 75t\", \"total_reviews\": 445.0}, {\"lag\": 14, \"corr\": 0.11696132515107453, \"product_name\": \"Elite 75t\", \"total_reviews\": 445.0}, {\"lag\": 15, \"corr\": -0.11282167268729344, \"product_name\": \"Elite 75t\", \"total_reviews\": 445.0}, {\"lag\": 16, \"corr\": -0.220024437386179, \"product_name\": \"Elite 75t\", \"total_reviews\": 445.0}, {\"lag\": 0, \"corr\": 0.3672467396405457, \"product_name\": \"Free\", \"total_reviews\": 1834.0}, {\"lag\": 1, \"corr\": 0.5107557633348014, \"product_name\": \"Free\", \"total_reviews\": 1834.0}, {\"lag\": 2, \"corr\": 0.5415246050670085, \"product_name\": \"Free\", \"total_reviews\": 1834.0}, {\"lag\": 3, \"corr\": 0.5412981746436201, \"product_name\": \"Free\", \"total_reviews\": 1834.0}, {\"lag\": 4, \"corr\": 0.43762133802178754, \"product_name\": \"Free\", \"total_reviews\": 1834.0}, {\"lag\": 5, \"corr\": 0.47093726215010995, \"product_name\": \"Free\", \"total_reviews\": 1834.0}, {\"lag\": 6, \"corr\": 0.47414011907360903, \"product_name\": \"Free\", \"total_reviews\": 1834.0}, {\"lag\": 7, \"corr\": 0.46596820261331834, \"product_name\": \"Free\", \"total_reviews\": 1834.0}, {\"lag\": 8, \"corr\": 0.504052765646935, \"product_name\": \"Free\", \"total_reviews\": 1834.0}, {\"lag\": 9, \"corr\": 0.5227157671478021, \"product_name\": \"Free\", \"total_reviews\": 1834.0}, {\"lag\": 10, \"corr\": 0.44442044088023036, \"product_name\": \"Free\", \"total_reviews\": 1834.0}, {\"lag\": 11, \"corr\": 0.47273611290444645, \"product_name\": \"Free\", \"total_reviews\": 1834.0}, {\"lag\": 12, \"corr\": 0.48221499176885463, \"product_name\": \"Free\", \"total_reviews\": 1834.0}, {\"lag\": 13, \"corr\": 0.4565379002384416, \"product_name\": \"Free\", \"total_reviews\": 1834.0}, {\"lag\": 14, \"corr\": 0.41068570258479686, \"product_name\": \"Free\", \"total_reviews\": 1834.0}, {\"lag\": 15, \"corr\": 0.4180515286255459, \"product_name\": \"Free\", \"total_reviews\": 1834.0}, {\"lag\": 16, \"corr\": 0.3484635404514691, \"product_name\": \"Free\", \"total_reviews\": 1834.0}, {\"lag\": 17, \"corr\": 0.2773619762073645, \"product_name\": \"Free\", \"total_reviews\": 1834.0}, {\"lag\": 18, \"corr\": 0.24480497423785577, \"product_name\": \"Free\", \"total_reviews\": 1834.0}, {\"lag\": 19, \"corr\": 0.24937251428651183, \"product_name\": \"Free\", \"total_reviews\": 1834.0}, {\"lag\": 20, \"corr\": 0.12942766142787585, \"product_name\": \"Free\", \"total_reviews\": 1834.0}, {\"lag\": 21, \"corr\": 0.3809164260120549, \"product_name\": \"Free\", \"total_reviews\": 1834.0}, {\"lag\": 22, \"corr\": 0.26571728008147844, \"product_name\": \"Free\", \"total_reviews\": 1834.0}, {\"lag\": 23, \"corr\": 0.15480758333324227, \"product_name\": \"Free\", \"total_reviews\": 1834.0}, {\"lag\": 24, \"corr\": 0.2958053640534015, \"product_name\": \"Free\", \"total_reviews\": 1834.0}, {\"lag\": 0, \"corr\": 0.49416403778779333, \"product_name\": \"Galaxy Buds Plus\", \"total_reviews\": 624.0}, {\"lag\": 1, \"corr\": -0.3706234302450831, \"product_name\": \"Galaxy Buds Plus\", \"total_reviews\": 624.0}, {\"lag\": 2, \"corr\": -0.07712087621714983, \"product_name\": \"Galaxy Buds Plus\", \"total_reviews\": 624.0}, {\"lag\": 3, \"corr\": -0.48005771670251796, \"product_name\": \"Galaxy Buds Plus\", \"total_reviews\": 624.0}, {\"lag\": 0, \"corr\": -0.10113458152968459, \"product_name\": \"NC700\", \"total_reviews\": 826.0}, {\"lag\": 1, \"corr\": 0.08472048145372134, \"product_name\": \"NC700\", \"total_reviews\": 826.0}, {\"lag\": 2, \"corr\": 0.28908032938774303, \"product_name\": \"NC700\", \"total_reviews\": 826.0}, {\"lag\": 3, \"corr\": 0.28883210857354347, \"product_name\": \"NC700\", \"total_reviews\": 826.0}, {\"lag\": 4, \"corr\": 0.36014684603029895, \"product_name\": \"NC700\", \"total_reviews\": 826.0}, {\"lag\": 5, \"corr\": 0.45221485463514893, \"product_name\": \"NC700\", \"total_reviews\": 826.0}, {\"lag\": 6, \"corr\": 0.6265611119541433, \"product_name\": \"NC700\", \"total_reviews\": 826.0}, {\"lag\": 7, \"corr\": 0.5303682700309629, \"product_name\": \"NC700\", \"total_reviews\": 826.0}, {\"lag\": 8, \"corr\": 0.2504636571609208, \"product_name\": \"NC700\", \"total_reviews\": 826.0}, {\"lag\": 9, \"corr\": 0.2866647980205713, \"product_name\": \"NC700\", \"total_reviews\": 826.0}, {\"lag\": 10, \"corr\": 0.3565574834060962, \"product_name\": \"NC700\", \"total_reviews\": 826.0}, {\"lag\": 11, \"corr\": 0.34256825314463973, \"product_name\": \"NC700\", \"total_reviews\": 826.0}, {\"lag\": 12, \"corr\": 0.1627806178849268, \"product_name\": \"NC700\", \"total_reviews\": 826.0}, {\"lag\": 13, \"corr\": -0.07044317071487945, \"product_name\": \"NC700\", \"total_reviews\": 826.0}, {\"lag\": 14, \"corr\": -0.1837368606834901, \"product_name\": \"NC700\", \"total_reviews\": 826.0}, {\"lag\": 15, \"corr\": -0.23953687628143297, \"product_name\": \"NC700\", \"total_reviews\": 826.0}, {\"lag\": 16, \"corr\": -0.36684783645682206, \"product_name\": \"NC700\", \"total_reviews\": 826.0}, {\"lag\": 17, \"corr\": -0.29618683626882414, \"product_name\": \"NC700\", \"total_reviews\": 826.0}, {\"lag\": 18, \"corr\": -0.3990820255053199, \"product_name\": \"NC700\", \"total_reviews\": 826.0}, {\"lag\": 19, \"corr\": -0.30338157074330635, \"product_name\": \"NC700\", \"total_reviews\": 826.0}, {\"lag\": 20, \"corr\": -0.38901259697036755, \"product_name\": \"NC700\", \"total_reviews\": 826.0}, {\"lag\": 21, \"corr\": -0.32475913439997334, \"product_name\": \"NC700\", \"total_reviews\": 826.0}, {\"lag\": 22, \"corr\": -0.1847875190420406, \"product_name\": \"NC700\", \"total_reviews\": 826.0}, {\"lag\": 23, \"corr\": -0.2031154096978578, \"product_name\": \"NC700\", \"total_reviews\": 826.0}, {\"lag\": 0, \"corr\": -0.08329250049175371, \"product_name\": \"Soundcore Liberty 2 Pro\", \"total_reviews\": 857.0}, {\"lag\": 1, \"corr\": 0.0017448852481882684, \"product_name\": \"Soundcore Liberty 2 Pro\", \"total_reviews\": 857.0}, {\"lag\": 2, \"corr\": 0.046457752848531216, \"product_name\": \"Soundcore Liberty 2 Pro\", \"total_reviews\": 857.0}, {\"lag\": 3, \"corr\": 0.19671601992830476, \"product_name\": \"Soundcore Liberty 2 Pro\", \"total_reviews\": 857.0}, {\"lag\": 4, \"corr\": 0.0716735575824089, \"product_name\": \"Soundcore Liberty 2 Pro\", \"total_reviews\": 857.0}, {\"lag\": 5, \"corr\": 0.18718904379559662, \"product_name\": \"Soundcore Liberty 2 Pro\", \"total_reviews\": 857.0}, {\"lag\": 6, \"corr\": 0.114486800497186, \"product_name\": \"Soundcore Liberty 2 Pro\", \"total_reviews\": 857.0}, {\"lag\": 7, \"corr\": 0.06387482187809476, \"product_name\": \"Soundcore Liberty 2 Pro\", \"total_reviews\": 857.0}, {\"lag\": 8, \"corr\": 0.13397993948028175, \"product_name\": \"Soundcore Liberty 2 Pro\", \"total_reviews\": 857.0}, {\"lag\": 9, \"corr\": 0.17663853274782865, \"product_name\": \"Soundcore Liberty 2 Pro\", \"total_reviews\": 857.0}, {\"lag\": 10, \"corr\": 0.13071731729249741, \"product_name\": \"Soundcore Liberty 2 Pro\", \"total_reviews\": 857.0}, {\"lag\": 11, \"corr\": 0.2751247536877225, \"product_name\": \"Soundcore Liberty 2 Pro\", \"total_reviews\": 857.0}, {\"lag\": 12, \"corr\": 0.2365270404461065, \"product_name\": \"Soundcore Liberty 2 Pro\", \"total_reviews\": 857.0}, {\"lag\": 13, \"corr\": 0.2718159375621714, \"product_name\": \"Soundcore Liberty 2 Pro\", \"total_reviews\": 857.0}, {\"lag\": 0, \"corr\": -0.06321585963149381, \"product_name\": \"Soundcore Liberty Air 2\", \"total_reviews\": 686.0}, {\"lag\": 1, \"corr\": 0.18678865968048422, \"product_name\": \"Soundcore Liberty Air 2\", \"total_reviews\": 686.0}, {\"lag\": 2, \"corr\": 0.3492386443938977, \"product_name\": \"Soundcore Liberty Air 2\", \"total_reviews\": 686.0}, {\"lag\": 3, \"corr\": 0.4862898863635767, \"product_name\": \"Soundcore Liberty Air 2\", \"total_reviews\": 686.0}, {\"lag\": 4, \"corr\": 0.6458205919398988, \"product_name\": \"Soundcore Liberty Air 2\", \"total_reviews\": 686.0}, {\"lag\": 5, \"corr\": 0.7543361688249998, \"product_name\": \"Soundcore Liberty Air 2\", \"total_reviews\": 686.0}, {\"lag\": 6, \"corr\": 0.6626659425559075, \"product_name\": \"Soundcore Liberty Air 2\", \"total_reviews\": 686.0}, {\"lag\": 7, \"corr\": 0.5773208889979298, \"product_name\": \"Soundcore Liberty Air 2\", \"total_reviews\": 686.0}, {\"lag\": 8, \"corr\": 0.6153875080988677, \"product_name\": \"Soundcore Liberty Air 2\", \"total_reviews\": 686.0}, {\"lag\": 9, \"corr\": 0.6402938519595269, \"product_name\": \"Soundcore Liberty Air 2\", \"total_reviews\": 686.0}, {\"lag\": 10, \"corr\": 0.5311279154758677, \"product_name\": \"Soundcore Liberty Air 2\", \"total_reviews\": 686.0}, {\"lag\": 11, \"corr\": 0.09056296153030212, \"product_name\": \"Soundcore Liberty Air 2\", \"total_reviews\": 686.0}, {\"lag\": 12, \"corr\": 0.06684273680114595, \"product_name\": \"Soundcore Liberty Air 2\", \"total_reviews\": 686.0}, {\"lag\": 13, \"corr\": 0.027865516431420705, \"product_name\": \"Soundcore Liberty Air 2\", \"total_reviews\": 686.0}, {\"lag\": 14, \"corr\": -0.0950434980307492, \"product_name\": \"Soundcore Liberty Air 2\", \"total_reviews\": 686.0}, {\"lag\": 0, \"corr\": 0.09904506312545602, \"product_name\": \"Soundcore Life Q20\", \"total_reviews\": 1408.0}, {\"lag\": 1, \"corr\": 0.13527266468339014, \"product_name\": \"Soundcore Life Q20\", \"total_reviews\": 1408.0}, {\"lag\": 2, \"corr\": 0.143521168818208, \"product_name\": \"Soundcore Life Q20\", \"total_reviews\": 1408.0}, {\"lag\": 3, \"corr\": -0.0075924938440098755, \"product_name\": \"Soundcore Life Q20\", \"total_reviews\": 1408.0}, {\"lag\": 4, \"corr\": -0.030848975075384436, \"product_name\": \"Soundcore Life Q20\", \"total_reviews\": 1408.0}, {\"lag\": 5, \"corr\": 0.0024763150462043197, \"product_name\": \"Soundcore Life Q20\", \"total_reviews\": 1408.0}, {\"lag\": 6, \"corr\": -0.025185740891758387, \"product_name\": \"Soundcore Life Q20\", \"total_reviews\": 1408.0}, {\"lag\": 7, \"corr\": 0.002836405846646177, \"product_name\": \"Soundcore Life Q20\", \"total_reviews\": 1408.0}, {\"lag\": 8, \"corr\": 0.14876926904051482, \"product_name\": \"Soundcore Life Q20\", \"total_reviews\": 1408.0}, {\"lag\": 9, \"corr\": 0.1425660285221845, \"product_name\": \"Soundcore Life Q20\", \"total_reviews\": 1408.0}, {\"lag\": 10, \"corr\": 0.01727009719685443, \"product_name\": \"Soundcore Life Q20\", \"total_reviews\": 1408.0}, {\"lag\": 11, \"corr\": -0.06397057259942157, \"product_name\": \"Soundcore Life Q20\", \"total_reviews\": 1408.0}, {\"lag\": 12, \"corr\": -0.10628585019187979, \"product_name\": \"Soundcore Life Q20\", \"total_reviews\": 1408.0}, {\"lag\": 13, \"corr\": -0.13877713678959122, \"product_name\": \"Soundcore Life Q20\", \"total_reviews\": 1408.0}, {\"lag\": 14, \"corr\": -0.1291492906984638, \"product_name\": \"Soundcore Life Q20\", \"total_reviews\": 1408.0}, {\"lag\": 15, \"corr\": -0.17042577510234447, \"product_name\": \"Soundcore Life Q20\", \"total_reviews\": 1408.0}, {\"lag\": 16, \"corr\": -0.2848093417780308, \"product_name\": \"Soundcore Life Q20\", \"total_reviews\": 1408.0}, {\"lag\": 17, \"corr\": -0.18291617890355893, \"product_name\": \"Soundcore Life Q20\", \"total_reviews\": 1408.0}, {\"lag\": 0, \"corr\": 0.2124400621037264, \"product_name\": \"WF-1000XM3\", \"total_reviews\": 1136.0}, {\"lag\": 1, \"corr\": 0.264079699770755, \"product_name\": \"WF-1000XM3\", \"total_reviews\": 1136.0}, {\"lag\": 2, \"corr\": 0.34523686274352733, \"product_name\": \"WF-1000XM3\", \"total_reviews\": 1136.0}, {\"lag\": 3, \"corr\": 0.40140807882165375, \"product_name\": \"WF-1000XM3\", \"total_reviews\": 1136.0}, {\"lag\": 4, \"corr\": 0.331637082006819, \"product_name\": \"WF-1000XM3\", \"total_reviews\": 1136.0}, {\"lag\": 5, \"corr\": 0.3195615082482708, \"product_name\": \"WF-1000XM3\", \"total_reviews\": 1136.0}, {\"lag\": 6, \"corr\": 0.4263296849773592, \"product_name\": \"WF-1000XM3\", \"total_reviews\": 1136.0}, {\"lag\": 7, \"corr\": 0.41700207335293826, \"product_name\": \"WF-1000XM3\", \"total_reviews\": 1136.0}, {\"lag\": 8, \"corr\": 0.47890413466942133, \"product_name\": \"WF-1000XM3\", \"total_reviews\": 1136.0}, {\"lag\": 9, \"corr\": 0.6705030851490711, \"product_name\": \"WF-1000XM3\", \"total_reviews\": 1136.0}, {\"lag\": 10, \"corr\": 0.5057586481473086, \"product_name\": \"WF-1000XM3\", \"total_reviews\": 1136.0}, {\"lag\": 11, \"corr\": 0.3573606776896485, \"product_name\": \"WF-1000XM3\", \"total_reviews\": 1136.0}, {\"lag\": 12, \"corr\": 0.27722722349669837, \"product_name\": \"WF-1000XM3\", \"total_reviews\": 1136.0}, {\"lag\": 13, \"corr\": 0.23367436291277482, \"product_name\": \"WF-1000XM3\", \"total_reviews\": 1136.0}, {\"lag\": 14, \"corr\": 0.08386177159628558, \"product_name\": \"WF-1000XM3\", \"total_reviews\": 1136.0}, {\"lag\": 15, \"corr\": 0.07233372128644966, \"product_name\": \"WF-1000XM3\", \"total_reviews\": 1136.0}, {\"lag\": 16, \"corr\": -0.16067530938623958, \"product_name\": \"WF-1000XM3\", \"total_reviews\": 1136.0}, {\"lag\": 17, \"corr\": -0.17234289132080668, \"product_name\": \"WF-1000XM3\", \"total_reviews\": 1136.0}, {\"lag\": 18, \"corr\": -0.03354854933109822, \"product_name\": \"WF-1000XM3\", \"total_reviews\": 1136.0}, {\"lag\": 19, \"corr\": -0.14733990237267644, \"product_name\": \"WF-1000XM3\", \"total_reviews\": 1136.0}, {\"lag\": 20, \"corr\": -0.42105796070218954, \"product_name\": \"WF-1000XM3\", \"total_reviews\": 1136.0}, {\"lag\": 21, \"corr\": -0.5484087584722239, \"product_name\": \"WF-1000XM3\", \"total_reviews\": 1136.0}]}}, {\"mode\": \"vega-lite\"});\n",
       "</script>"
      ],
      "text/plain": [
       "alt.Chart(...)"
      ]
     },
     "execution_count": 9,
     "metadata": {},
     "output_type": "execute_result"
    }
   ],
   "source": [
    "alt.Chart(df_corr).mark_bar(size=10).encode(\n",
    "    x=alt.X('lag'),\n",
    "    y=alt.Y('corr', \n",
    "            #scale=alt.Scale(domain=[0,1])\n",
    "           ),\n",
    "    facet=alt.Facet(\n",
    "        'product_name',\n",
    "        columns=1,\n",
    "        sort=['NC700', 'AirPods Pro', 'WF-1000XM3', 'Elite 75t', 'Soundcore Liberty 2 Pro', 'Galaxy Buds Plus', 'Soundcore Liberty Air 2', 'Soundcore Life Q20', 'Free']\n",
    "    )\n",
    ").transform_filter(\n",
    "    datum.corr > 0\n",
    ").resolve_scale(x='independent')"
   ]
  },
  {
   "cell_type": "code",
   "execution_count": null,
   "metadata": {},
   "outputs": [],
   "source": []
  }
 ],
 "metadata": {
  "kernelspec": {
   "display_name": "Python 3",
   "language": "python",
   "name": "python3"
  },
  "language_info": {
   "codemirror_mode": {
    "name": "ipython",
    "version": 3
   },
   "file_extension": ".py",
   "mimetype": "text/x-python",
   "name": "python",
   "nbconvert_exporter": "python",
   "pygments_lexer": "ipython3",
   "version": "3.8.2"
  }
 },
 "nbformat": 4,
 "nbformat_minor": 4
}
